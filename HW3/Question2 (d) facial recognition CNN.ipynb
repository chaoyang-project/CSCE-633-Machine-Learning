{
 "cells": [
  {
   "cell_type": "markdown",
   "metadata": {},
   "source": [
    "# (d.i)"
   ]
  },
  {
   "cell_type": "code",
   "execution_count": 2,
   "metadata": {},
   "outputs": [],
   "source": [
    "import pandas as pd\n",
    "import numpy as np\n",
    "import matplotlib.pyplot as plt "
   ]
  },
  {
   "cell_type": "code",
   "execution_count": 3,
   "metadata": {},
   "outputs": [],
   "source": [
    "train = pd.read_csv(\"Q2_Train_Data.csv\")\n",
    "train_emotion = train['emotion']\n",
    "train_pixels = train['pixels'].str.split(' ', expand = True)\n",
    "train_pixels = train_pixels.apply(pd.to_numeric)"
   ]
  },
  {
   "cell_type": "code",
   "execution_count": 4,
   "metadata": {},
   "outputs": [],
   "source": [
    "vali = pd.read_csv(\"Q2_Validation_Data.csv\")\n",
    "vali_emotion = vali['emotion']\n",
    "vali_pixels = vali['pixels'].str.split(' ', expand=True)\n",
    "vali_pixels = vali_pixels.apply(pd.to_numeric)"
   ]
  },
  {
   "cell_type": "code",
   "execution_count": 5,
   "metadata": {},
   "outputs": [],
   "source": [
    "test = pd.read_csv(\"Q2_Test_Data.csv\")\n",
    "test_emotion = test['emotion']\n",
    "test_pixels = test['pixels'].str.split(' ', expand=True)\n",
    "test_pixels = test_pixels.apply(pd.to_numeric)"
   ]
  },
  {
   "cell_type": "code",
   "execution_count": 6,
   "metadata": {},
   "outputs": [],
   "source": [
    "# Preprocessing: Normalize the images.\n",
    "train_pixels = (train_pixels / 255) - 0.5\n",
    "vali_pixels = (vali_pixels / 255) - 0.5\n",
    "test_pixels = (test_pixels / 255) - 0.5"
   ]
  },
  {
   "cell_type": "code",
   "execution_count": 7,
   "metadata": {},
   "outputs": [],
   "source": [
    "train_pixels_cnn = train_pixels.values.reshape((-1,48,48,1))\n",
    "vali_pixels_cnn = vali_pixels.values.reshape((-1,48,48,1))\n",
    "test_pixels_cnn = test_pixels.values.reshape((-1,48,48,1))"
   ]
  },
  {
   "cell_type": "code",
   "execution_count": 8,
   "metadata": {},
   "outputs": [
    {
     "name": "stderr",
     "output_type": "stream",
     "text": [
      "Using TensorFlow backend.\n"
     ]
    }
   ],
   "source": [
    "from keras.models import Sequential\n",
    "from keras.layers import Dense, Dropout\n",
    "from hyperopt import hp, fmin, tpe, STATUS_OK, Trials, space_eval\n",
    "from keras import backend\n",
    "from keras.layers import Conv2D, Flatten, MaxPooling2D\n",
    "from keras.utils import to_categorical\n",
    "import time"
   ]
  },
  {
   "cell_type": "code",
   "execution_count": 9,
   "metadata": {},
   "outputs": [
    {
     "name": "stdout",
     "output_type": "stream",
     "text": [
      "-----------------------------------------------------------------------------------------                              \n",
      "Hyperparameters:                                                                                                       \n",
      "{'conv2d_config': ((32,), (64, 64), (32,)), 'dropout_prob': 0.18339892017353193, 'optimizer': 'Adam', 'stride_size': 2}\n",
      "Accuracy on training sets: 0.5313                                                                                      \n",
      "Accuracy on validation sets: 0.4943                                                                                    \n",
      "Running time: 145.1889 s                                                                                               \n",
      "Number of parameters: 94695                                                                                            \n",
      "-----------------------------------------------------------------------------------------                              \n",
      "-----------------------------------------------------------------------------------------                              \n",
      "Hyperparameters:                                                                                                       \n",
      "{'conv2d_config': ((32,), (64, 64), (32,)), 'dropout_prob': 0.17075365005850213, 'optimizer': 'sgd', 'stride_size': 3} \n",
      "Accuracy on training sets: 0.2513                                                                                      \n",
      "Accuracy on validation sets: 0.2494                                                                                    \n",
      "Running time: 79.4404 s                                                                                                \n",
      "Number of parameters: 94695                                                                                            \n",
      "-----------------------------------------------------------------------------------------                              \n",
      "-----------------------------------------------------------------------------------------                              \n",
      "Hyperparameters:                                                                                                       \n",
      "{'conv2d_config': ((64,), (128,)), 'dropout_prob': 0.32251419538343645, 'optimizer': 'sgd', 'stride_size': 1}          \n",
      "Accuracy on training sets: 0.3707                                                                                      \n",
      "Accuracy on validation sets: 0.3313                                                                                    \n",
      "Running time: 1943.3092 s                                                                                              \n",
      "Number of parameters: 9515783                                                                                          \n",
      "-----------------------------------------------------------------------------------------                              \n",
      "-----------------------------------------------------------------------------------------                              \n",
      "Hyperparameters:                                                                                                       \n",
      "{'conv2d_config': ((64,), (128,)), 'dropout_prob': 0.18230524602612286, 'optimizer': 'Adam', 'stride_size': 2}         \n",
      "Accuracy on training sets: 0.6574                                                                                      \n",
      "Accuracy on validation sets: 0.5508                                                                                    \n",
      "Running time: 277.8078 s                                                                                               \n",
      "Number of parameters: 668423                                                                                           \n",
      "-----------------------------------------------------------------------------------------                              \n",
      "-----------------------------------------------------------------------------------------                              \n",
      "Hyperparameters:                                                                                                       \n",
      "{'conv2d_config': ((32,), (64, 64), (32,)), 'dropout_prob': 0.21617492365284047, 'optimizer': 'sgd', 'stride_size': 1} \n",
      "Accuracy on training sets: 0.3037                                                                                      \n",
      "Accuracy on validation sets: 0.3302                                                                                    \n",
      "Running time: 1428.3455 s                                                                                              \n",
      "Number of parameters: 668135                                                                                           \n",
      "-----------------------------------------------------------------------------------------                              \n",
      "100%|██████████████████████████████████████████████| 5/5 [1:04:41<00:00, 776.31s/trial, best loss: -0.5508497953414917]\n"
     ]
    }
   ],
   "source": [
    "def optimize_cnn(hyperparameter):\n",
    "    backend.clear_session()\n",
    "    cnn_model = Sequential()\n",
    "\n",
    "    for layer_list in hyperparameter['conv2d_config']:\n",
    "        for layer_size in layer_list:\n",
    "            cnn_model.add(Conv2D(layer_size, kernel_size=3, padding='same', strides=hyperparameter['stride_size'], activation='relu'))\n",
    "        cnn_model.add(MaxPooling2D(pool_size=(2,2), padding='same'))\n",
    "        cnn_model.add(Dropout(hyperparameter['dropout_prob']))\n",
    "\n",
    "    cnn_model.add(Flatten())\n",
    "    cnn_model.add(Dense(512, activation='relu'))\n",
    "    cnn_model.add(Dense(7, activation='softmax'))\n",
    "\n",
    "    cnn_model.compile(optimizer=hyperparameter['optimizer'], loss='categorical_crossentropy', metrics=['accuracy'],)\n",
    "\n",
    "    start = time.time()\n",
    "    cnn_history = cnn_model.fit(train_pixels_cnn, to_categorical(train_emotion), epochs=20, batch_size=256, verbose=0)\n",
    "    end = time.time()\n",
    "\n",
    "    performance = cnn_model.evaluate(vali_pixels_cnn, to_categorical(vali_emotion), verbose=0)\n",
    "\n",
    "    print(\"-----------------------------------------------------------------------------------------\")\n",
    "    print(\"Hyperparameters: \", (hyperparameter))\n",
    "    print(\"Accuracy on training sets: %.4f\" % (cnn_history.history['accuracy'][-1]))\n",
    "    print(\"Accuracy on validation sets: %.4f\" % (performance[1]))\n",
    "    print(\"Running time: %.4f s\" % (end-start))\n",
    "    print(\"Number of parameters: %d\" % (cnn_model.count_params()))\n",
    "    print(\"-----------------------------------------------------------------------------------------\")\n",
    "\n",
    "\n",
    "    # We want to minimize loss i.e. negative of accuracy\n",
    "    return({\"status\": STATUS_OK, \"loss\": -1*performance[1], \"model\":cnn_model})\n",
    "\n",
    "# Define search space for hyper-parameters\n",
    "space = {\n",
    "    # The convolution layers and sizes\n",
    "    'conv2d_config': hp.choice('conv2d_config', [[[64],[128]],[[32,32],[64,64]],[[32],[64,64],[32]]]),\n",
    "    # The stride_size for convolutions:\n",
    "    'stride_size': hp.choice('stride_size', [1, 2, 3]),\n",
    "    # Uniform distribution in finding appropriate dropout values\n",
    "    'dropout_prob': hp.uniform('dropout_prob', 0.1, 0.35),\n",
    "    # Choice of optimizer \n",
    "    'optimizer': hp.choice('optimizer', ['Adam','sgd']),\n",
    "}\n",
    "\n",
    "trials = Trials()\n",
    "\n",
    "# Find the best hyperparameters\n",
    "best = fmin(\n",
    "        optimize_cnn,\n",
    "        space,\n",
    "        algo=tpe.suggest,\n",
    "        trials=trials,\n",
    "        max_evals=5,\n",
    "    )\n"
   ]
  },
  {
   "cell_type": "markdown",
   "metadata": {},
   "source": [
    "# (d.ii)"
   ]
  },
  {
   "cell_type": "code",
   "execution_count": 10,
   "metadata": {},
   "outputs": [
    {
     "name": "stdout",
     "output_type": "stream",
     "text": [
      "-----------------------------------------------------------------------------------------\n",
      "Hyperparameters:  {'conv2d_config': ((64,), (128,)), 'dropout_prob': 0.18230524602612286, 'optimizer': 'Adam', 'stride_size': 2}\n",
      "Accuracy on training sets: 0.6648\n",
      "Accuracy on validation sets: 0.5511\n",
      "Running time: 278.7731 s\n",
      "Number of parameters: 668423\n",
      "-----------------------------------------------------------------------------------------\n",
      "Accuracy on testing sets:  0.5533574819564819\n"
     ]
    }
   ],
   "source": [
    "best_hyper_cnn = space_eval(space,best)\n",
    "cnn_tuned = optimize_cnn(best_hyper_cnn)\n",
    "performance_cnn = cnn_tuned['model'].evaluate(test_pixels_cnn, to_categorical(test_emotion), verbose=0)\n",
    "print(\"Accuracy on testing sets: \", performance_cnn[1])"
   ]
  },
  {
   "cell_type": "code",
   "execution_count": null,
   "metadata": {},
   "outputs": [],
   "source": []
  }
 ],
 "metadata": {
  "kernelspec": {
   "display_name": "Python 3",
   "language": "python",
   "name": "python3"
  },
  "language_info": {
   "codemirror_mode": {
    "name": "ipython",
    "version": 3
   },
   "file_extension": ".py",
   "mimetype": "text/x-python",
   "name": "python",
   "nbconvert_exporter": "python",
   "pygments_lexer": "ipython3",
   "version": "3.7.6"
  }
 },
 "nbformat": 4,
 "nbformat_minor": 2
}
