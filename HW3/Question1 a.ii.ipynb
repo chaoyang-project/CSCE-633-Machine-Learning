{
 "cells": [
  {
   "cell_type": "code",
   "execution_count": 33,
   "metadata": {},
   "outputs": [],
   "source": [
    "class DataPoint(object):\n",
    "\n",
    "    def __init__(self, feats):\n",
    "        self.value = feats['value']"
   ]
  },
  {
   "cell_type": "code",
   "execution_count": 34,
   "metadata": {},
   "outputs": [],
   "source": [
    "def parse_dataset(filename):\n",
    "    \n",
    "    data_file = open(filename, 'r')  \n",
    "    dataset = []  \n",
    "\n",
    "    for index, line in enumerate(data_file):\n",
    "        value = line.strip().split(',')  \n",
    "        dataset.append(DataPoint({'value': float(value[0])}))  \n",
    "  \n",
    "    return dataset"
   ]
  },
  {
   "cell_type": "code",
   "execution_count": 35,
   "metadata": {},
   "outputs": [],
   "source": [
    "dataset = parse_dataset('Q1_Data.csv')"
   ]
  },
  {
   "cell_type": "code",
   "execution_count": 36,
   "metadata": {},
   "outputs": [],
   "source": [
    "value = []\n",
    "for i in range(len(dataset)):\n",
    "    value.append(dataset[i].value)"
   ]
  },
  {
   "cell_type": "code",
   "execution_count": 37,
   "metadata": {},
   "outputs": [],
   "source": [
    "import numpy as np\n",
    "value = np.array(value)"
   ]
  },
  {
   "cell_type": "code",
   "execution_count": 38,
   "metadata": {},
   "outputs": [
    {
     "name": "stdout",
     "output_type": "stream",
     "text": [
      "[1.74365892 0.77479243 1.08425521 1.65314181 1.42333048 0.34849753\n",
      " 0.98571391 0.89924994 0.63916281 0.83152765 0.97218407 1.15404443\n",
      " 1.06556385 0.89901814 1.04652781 1.22095058 0.67641151 1.30701084\n",
      " 1.32147193 0.8177826  1.05729185 0.97390133 1.43961292 1.15420098\n",
      " 1.01512827 1.03892414 0.70816937 1.01111884 0.92211973 1.15977743\n",
      " 0.87792311 1.19008299 1.0018162  1.35581395 0.75748035 1.049495\n",
      " 1.35245024 1.00018937 1.49955715 1.21273403 1.11366741 0.65215762\n",
      " 0.95530998 1.15567288 1.35066255 1.54493354 0.62965846 0.57853945\n",
      " 1.23484198 1.70034212]\n"
     ]
    }
   ],
   "source": [
    "print(value)"
   ]
  },
  {
   "cell_type": "code",
   "execution_count": 39,
   "metadata": {},
   "outputs": [],
   "source": [
    "value_mean = np.mean(value)\n",
    "value_var = np.var(value)"
   ]
  },
  {
   "cell_type": "code",
   "execution_count": 40,
   "metadata": {},
   "outputs": [
    {
     "name": "stdout",
     "output_type": "stream",
     "text": [
      "1.0711573934217318\n",
      "0.08840831592001709\n"
     ]
    }
   ],
   "source": [
    "print(value_mean)\n",
    "print(value_var)"
   ]
  }
 ],
 "metadata": {
  "kernelspec": {
   "display_name": "Python 3",
   "language": "python",
   "name": "python3"
  },
  "language_info": {
   "codemirror_mode": {
    "name": "ipython",
    "version": 3
   },
   "file_extension": ".py",
   "mimetype": "text/x-python",
   "name": "python",
   "nbconvert_exporter": "python",
   "pygments_lexer": "ipython3",
   "version": "3.7.6"
  }
 },
 "nbformat": 4,
 "nbformat_minor": 2
}
